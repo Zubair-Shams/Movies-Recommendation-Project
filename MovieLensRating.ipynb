{
 "cells": [
  {
   "cell_type": "code",
   "execution_count": 1,
   "id": "a4793da6",
   "metadata": {},
   "outputs": [],
   "source": [
    "from pyspark.sql import SparkSession\n",
    "from pyspark.sql import functions as f\n"
   ]
  },
  {
   "cell_type": "code",
   "execution_count": 2,
   "id": "bb5df5fe",
   "metadata": {},
   "outputs": [],
   "source": [
    "#SparkSession creation\n",
    "spark = SparkSession.builder.appName(\"MovieLensRating\").getOrCreate()"
   ]
  },
  {
   "cell_type": "code",
   "execution_count": 33,
   "id": "d22d670a",
   "metadata": {},
   "outputs": [],
   "source": [
    "df_data = (\n",
    "    spark.read.csv(\n",
    "        path=\"D:/New folder (3)/movielens/u_data.csv\",\n",
    "        sep= \",\",\n",
    "        quote='\"',\n",
    "        header=True,\n",
    "        schema=\"userId INT, movieID INT, rating DOUBLE, timestamp INT\",\n",
    "     )\n",
    "    #converting timestamp format to regular one from unixtime\n",
    "     .withColumn(\"timestamp\",f.to_timestamp(f.from_unixtime(\"timestamp\")))\n",
    ")\n",
    "\n",
    "df_user = spark.read.csv(\n",
    "             path=\"D:/New folder (3)/movielens/u_user.csv\",\n",
    "             sep=\",\",\n",
    "             quote='\"',\n",
    "             header=True,\n",
    "             schema=\"userId INT, age STRING, gender STRING,occupation STRING, zipcode INT\"\n",
    "        )\n",
    "\n"
   ]
  },
  {
   "cell_type": "code",
   "execution_count": 34,
   "id": "9309e66b",
   "metadata": {},
   "outputs": [
    {
     "name": "stdout",
     "output_type": "stream",
     "text": [
      "+------+---+------+-------------+-------+\n",
      "|userId|age|gender|   occupation|zipcode|\n",
      "+------+---+------+-------------+-------+\n",
      "|     1| 24|     M|   technician|  85711|\n",
      "|     2| 53|     F|        other|  94043|\n",
      "|     3| 23|     M|       writer|  32067|\n",
      "|     4| 24|     M|   technician|  43537|\n",
      "|     5| 33|     F|        other|  15213|\n",
      "|     6| 42|     M|    executive|  98101|\n",
      "|     7| 57|     M|administrator|  91344|\n",
      "|     8| 36|     M|administrator|   5201|\n",
      "|     9| 29|     M|      student|   1002|\n",
      "|    10| 53|     M|       lawyer|  90703|\n",
      "|    11| 39|     F|        other|  30329|\n",
      "|    12| 28|     F|        other|   6405|\n",
      "|    13| 47|     M|     educator|  29206|\n",
      "|    14| 45|     M|    scientist|  55106|\n",
      "|    15| 49|     F|     educator|  97301|\n",
      "|    16| 21|     M|entertainment|  10309|\n",
      "|    17| 30|     M|   programmer|   6355|\n",
      "|    18| 35|     F|        other|  37212|\n",
      "|    19| 40|     M|    librarian|   2138|\n",
      "|    20| 42|     F|    homemaker|  95660|\n",
      "+------+---+------+-------------+-------+\n",
      "only showing top 20 rows\n",
      "\n",
      "+------+-------+------+-------------------+\n",
      "|userId|movieID|rating|          timestamp|\n",
      "+------+-------+------+-------------------+\n",
      "|   196|    242|   3.0|1997-12-04 20:55:49|\n",
      "|   186|    302|   3.0|1998-04-05 00:22:22|\n",
      "|    22|    377|   1.0|1997-11-07 12:18:36|\n",
      "|   244|     51|   2.0|1997-11-27 10:02:03|\n",
      "|   166|    346|   1.0|1998-02-02 10:33:16|\n",
      "|   298|    474|   4.0|1998-01-07 19:20:06|\n",
      "|   115|    265|   2.0|1997-12-03 22:51:28|\n",
      "|   253|    465|   5.0|1998-04-03 23:34:27|\n",
      "|   305|    451|   3.0|1998-02-01 14:20:17|\n",
      "|     6|     86|   3.0|1998-01-01 02:16:53|\n",
      "|    62|    257|   2.0|1997-11-13 03:07:14|\n",
      "|   286|   1014|   5.0|1997-11-17 20:38:45|\n",
      "|   200|    222|   5.0|1997-10-05 14:05:40|\n",
      "|   210|     40|   3.0|1998-03-28 02:59:54|\n",
      "|   224|     29|   3.0|1998-02-22 04:40:57|\n",
      "|   303|    785|   3.0|1997-11-14 10:28:38|\n",
      "|   122|    387|   5.0|1997-11-11 22:47:39|\n",
      "|   194|    274|   2.0|1997-11-15 01:36:34|\n",
      "|   291|   1042|   4.0|1997-09-21 14:42:24|\n",
      "|   234|   1184|   2.0|1998-04-09 04:47:17|\n",
      "+------+-------+------+-------------------+\n",
      "only showing top 20 rows\n",
      "\n"
     ]
    }
   ],
   "source": [
    "df_user.show()\n",
    "df_data.show()"
   ]
  },
  {
   "cell_type": "code",
   "execution_count": 35,
   "id": "f3be36b4",
   "metadata": {},
   "outputs": [
    {
     "name": "stdout",
     "output_type": "stream",
     "text": [
      "+------+---+------+----------+-------+-------+------+-------------------+\n",
      "|userId|age|gender|occupation|zipcode|movieID|rating|timestamp          |\n",
      "+------+---+------+----------+-------+-------+------+-------------------+\n",
      "|196   |49 |M     |writer    |55105  |242    |3.0   |1997-12-04 20:55:49|\n",
      "|186   |39 |F     |executive |0      |302    |3.0   |1998-04-05 00:22:22|\n",
      "|22    |25 |M     |writer    |40206  |377    |1.0   |1997-11-07 12:18:36|\n",
      "|244   |28 |M     |technician|80525  |51     |2.0   |1997-11-27 10:02:03|\n",
      "|166   |47 |M     |educator  |55113  |346    |1.0   |1998-02-02 10:33:16|\n",
      "|298   |44 |M     |executive |1581   |474    |4.0   |1998-01-07 19:20:06|\n",
      "|115   |31 |M     |engineer  |17110  |265    |2.0   |1997-12-03 22:51:28|\n",
      "|253   |26 |F     |librarian |22903  |465    |5.0   |1998-04-03 23:34:27|\n",
      "|305   |23 |M     |programmer|94086  |451    |3.0   |1998-02-01 14:20:17|\n",
      "|6     |42 |M     |executive |98101  |86     |3.0   |1998-01-01 02:16:53|\n",
      "+------+---+------+----------+-------+-------+------+-------------------+\n",
      "only showing top 10 rows\n",
      "\n"
     ]
    }
   ],
   "source": [
    "#Joining opinion table with rating on two unique ids i.e \"movieId\" and \"userId\": inner join\n",
    "opinions_ext = (df_user.join(df_data,[\"userId\"],\"inner\")\n",
    "#             .select(\"user_Id\",\"movieID\",\"title\",\"tag\",\"rating\",\"timestamp_tag\",\"timestamp\")\n",
    "        )\n",
    "opinions_ext.show(10,False)"
   ]
  },
  {
   "cell_type": "code",
   "execution_count": 47,
   "id": "7a3a0012",
   "metadata": {},
   "outputs": [
    {
     "name": "stdout",
     "output_type": "stream",
     "text": [
      "+-------+-------------+-------------------+----------+----------+------------------+-------------------+-------------------+\n",
      "|movieID|occupation   |Total No. of Rating|Min Rating|Max Rating|Avg Rating        |Earliest           |Latest             |\n",
      "+-------+-------------+-------------------+----------+----------+------------------+-------------------+-------------------+\n",
      "|785    |student      |11                 |2.0       |5.0       |3.4545454545454546|1997-09-20 09:36:46|1998-03-31 06:55:51|\n",
      "|603    |marketing    |7                  |3.0       |5.0       |4.714285714285714 |1997-09-29 18:00:27|1998-04-01 18:59:31|\n",
      "|289    |educator     |31                 |1.0       |5.0       |3.0               |1997-10-07 22:23:11|1998-04-07 08:46:03|\n",
      "|134    |doctor       |1                  |4.0       |4.0       |4.0               |1997-10-30 11:18:31|1997-10-30 11:18:31|\n",
      "|756    |entertainment|3                  |2.0       |3.0       |2.3333333333333335|1998-01-06 06:31:49|1998-02-02 23:19:42|\n",
      "|191    |administrator|21                 |3.0       |5.0       |4.333333333333333 |1997-10-08 13:23:24|1998-04-01 23:16:27|\n",
      "|604    |educator     |18                 |3.0       |5.0       |4.222222222222222 |1997-09-27 06:54:16|1998-04-01 03:29:10|\n",
      "|552    |programmer   |8                  |2.0       |4.0       |2.875             |1997-10-30 09:09:56|1998-04-17 08:37:39|\n",
      "|671    |student      |4                  |3.0       |5.0       |4.25              |1997-10-16 03:59:20|1998-03-02 21:59:50|\n",
      "|337    |writer       |4                  |1.0       |5.0       |3.5               |1997-11-13 21:44:29|1998-03-07 07:16:23|\n",
      "|469    |executive    |3                  |4.0       |5.0       |4.333333333333333 |1997-10-29 07:22:52|1998-02-20 03:05:16|\n",
      "|750    |librarian    |9                  |2.0       |5.0       |3.6666666666666665|1998-01-24 03:16:52|1998-04-04 19:29:45|\n",
      "|155    |librarian    |7                  |2.0       |5.0       |3.142857142857143 |1998-01-05 04:28:38|1998-04-04 20:09:04|\n",
      "|181    |other        |54                 |1.0       |5.0       |4.018518518518518 |1997-09-22 22:12:12|1998-04-14 15:23:10|\n",
      "|781    |student      |24                 |2.0       |5.0       |3.5               |1997-09-21 12:56:09|1998-04-21 12:04:43|\n",
      "|47     |artist       |3                  |2.0       |3.0       |2.6666666666666665|1997-10-09 03:25:42|1998-03-06 15:29:29|\n",
      "|298    |other        |21                 |2.0       |5.0       |3.5714285714285716|1997-09-23 08:16:59|1998-03-31 19:36:44|\n",
      "|498    |librarian    |12                 |2.0       |5.0       |4.0               |1997-10-04 21:07:55|1998-04-03 00:38:18|\n",
      "|810    |engineer     |4                  |2.0       |4.0       |3.0               |1997-10-02 03:19:48|1998-01-15 21:50:31|\n",
      "|823    |administrator|6                  |2.0       |4.0       |3.0               |1997-11-07 03:26:05|1998-04-03 22:54:00|\n",
      "|64     |administrator|21                 |4.0       |5.0       |4.571428571428571 |1997-09-26 14:35:18|1998-03-31 18:25:56|\n",
      "+-------+-------------+-------------------+----------+----------+------------------+-------------------+-------------------+\n",
      "only showing top 21 rows\n",
      "\n"
     ]
    }
   ],
   "source": [
    "opinions_ext.groupBy(\"movieID\",\"occupation\").agg(\n",
    "    f.count(\"*\").alias(\"Total No. of Rating\"),\n",
    "    f.min(\"rating\").alias(\"Min Rating\"),\n",
    "    f.max(\"rating\").alias(\"Max Rating\"),\n",
    "    f.avg(\"rating\").alias(\"Avg Rating\"),\n",
    "    f.min(\"timestamp\").alias(\"Earliest\"),\n",
    "    f.max(\"timestamp\").alias(\"Latest\"),\n",
    ").show(21,False)"
   ]
  },
  {
   "cell_type": "code",
   "execution_count": 45,
   "id": "a9dfcad2",
   "metadata": {},
   "outputs": [
    {
     "name": "stdout",
     "output_type": "stream",
     "text": [
      "+------+-------+-------------+-------------+----------------+----------------+----------------+\n",
      "|userId|movieID|   occupation|Ratings Given|Avg Rating Given|Min Rating given|Max Rating Given|\n",
      "+------+-------+-------------+-------------+----------------+----------------+----------------+\n",
      "|    95|   1217|administrator|            1|             3.0|             3.0|             3.0|\n",
      "|    44|    449|   technician|            1|             5.0|             5.0|             5.0|\n",
      "|     7|    200|administrator|            1|             5.0|             5.0|             5.0|\n",
      "|   292|      9|   programmer|            1|             4.0|             4.0|             4.0|\n",
      "|     1|     47|   technician|            1|             4.0|             4.0|             4.0|\n",
      "|   311|    559|   technician|            1|             2.0|             2.0|             2.0|\n",
      "|   116|    751|   healthcare|            1|             3.0|             3.0|             3.0|\n",
      "|    79|    100|administrator|            1|             5.0|             5.0|             5.0|\n",
      "|    13|    354|     educator|            1|             2.0|             2.0|             2.0|\n",
      "|   196|    251|       writer|            1|             3.0|             3.0|             3.0|\n",
      "|    99|    181|      student|            1|             5.0|             5.0|             5.0|\n",
      "|   314|    692|      student|            1|             5.0|             5.0|             5.0|\n",
      "|   165|    325|        other|            1|             4.0|             4.0|             4.0|\n",
      "|   301|    606|      student|            1|             3.0|             3.0|             3.0|\n",
      "|   293|    167|       writer|            1|             3.0|             3.0|             3.0|\n",
      "|    92|    947|entertainment|            1|             4.0|             4.0|             4.0|\n",
      "|    64|    187|     educator|            1|             5.0|             5.0|             5.0|\n",
      "|   276|    270|      student|            1|             4.0|             4.0|             4.0|\n",
      "|   327|    210|      student|            1|             3.0|             3.0|             3.0|\n",
      "|    62|    157|administrator|            1|             3.0|             3.0|             3.0|\n",
      "+------+-------+-------------+-------------+----------------+----------------+----------------+\n",
      "only showing top 20 rows\n",
      "\n"
     ]
    }
   ],
   "source": [
    "opinions_ext.groupby(\"userId\",\"movieID\",\"occupation\").agg(\n",
    "#     f.collect_set(\"movieID\").alias(\"MOvieIDS\"),\n",
    "    f.count(\"*\").alias(\"Ratings Given\"),\n",
    "    f.avg(\"rating\").alias(\"Avg Rating Given\"),\n",
    "    f.min(\"rating\").alias(\"Min Rating given\"),\n",
    "    f.max(\"rating\").alias(\"Max Rating Given\"),\n",
    ").sort(\"Ratings Given\",ascending=False).show(20)"
   ]
  },
  {
   "cell_type": "code",
   "execution_count": null,
   "id": "400d4eb2",
   "metadata": {},
   "outputs": [],
   "source": []
  }
 ],
 "metadata": {
  "kernelspec": {
   "display_name": "Python 3 (ipykernel)",
   "language": "python",
   "name": "python3"
  },
  "language_info": {
   "codemirror_mode": {
    "name": "ipython",
    "version": 3
   },
   "file_extension": ".py",
   "mimetype": "text/x-python",
   "name": "python",
   "nbconvert_exporter": "python",
   "pygments_lexer": "ipython3",
   "version": "3.8.0"
  }
 },
 "nbformat": 4,
 "nbformat_minor": 5
}
